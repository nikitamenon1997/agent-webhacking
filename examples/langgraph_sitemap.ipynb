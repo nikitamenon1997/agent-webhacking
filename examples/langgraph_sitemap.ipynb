{
  "nbformat": 4,
  "nbformat_minor": 0,
  "metadata": {
    "colab": {
      "provenance": []
    },
    "kernelspec": {
      "name": "python3",
      "display_name": "Python 3"
    },
    "language_info": {
      "name": "python"
    }
  },
  "cells": [
    {
      "cell_type": "code",
      "source": [
        "import os\n",
        "import re\n",
        "import requests\n",
        "from bs4 import BeautifulSoup\n",
        "from urllib.parse import urljoin, urlparse\n",
        "from typing import List, Optional, Dict, Any, TypedDict\n",
        "from langchain_community.tools import ShellTool  # (if needed for shell commands)\n",
        "from langgraph.graph import StateGraph, END, START"
      ],
      "metadata": {
        "id": "32EXL7kfc_AW"
      },
      "execution_count": 8,
      "outputs": []
    },
    {
      "cell_type": "code",
      "source": [
        "# --- Step 1: Define the Recursive Crawl State ---\n",
        "class RecursiveCrawlState(TypedDict):\n",
        "    current_url: str                    # URL to crawl\n",
        "    current_depth: int                  # Current recursion depth\n",
        "    max_depth: int                      # Max recursion depth allowed\n",
        "    discovered_links: List[str]         # All links discovered so far\n",
        "    visited_urls: List[str]             # To prevent re-crawling same URL\n",
        "    error_message: Optional[str]        # Error message, if any\n",
        "    html_content: Optional[str]         # HTML content of the current page"
      ],
      "metadata": {
        "id": "cSXkNOlddFpl"
      },
      "execution_count": 9,
      "outputs": []
    },
    {
      "cell_type": "code",
      "source": [
        "# --- Step 2: Define Workflow Nodes ---\n",
        "\n",
        "# Node 1: Fetching the Web Page\n",
        "def fetch_page_node(state: RecursiveCrawlState) -> RecursiveCrawlState:\n",
        "    print(\"--- NODE: Fetching the web page... ---\")\n",
        "    updates: Dict[str, Optional[str]] = {\"error_message\": None}\n",
        "\n",
        "    current_url = state.get(\"current_url\")\n",
        "    if not current_url:\n",
        "        updates[\"error_message\"] = \"Error: No URL provided.\"\n",
        "        return updates\n",
        "\n",
        "    try:\n",
        "        print(f\"Fetching the web page: {current_url}\")\n",
        "        response = requests.get(current_url)\n",
        "        response.raise_for_status()  # Raise an error for invalid responses\n",
        "        updates[\"html_content\"] = response.text\n",
        "        print(f\"Page fetched successfully: {current_url}\")\n",
        "    except requests.exceptions.RequestException as e:\n",
        "        updates[\"error_message\"] = f\"Error fetching page: {str(e)}\"\n",
        "\n",
        "    return updates"
      ],
      "metadata": {
        "id": "hsHEwBKCdk1d"
      },
      "execution_count": 10,
      "outputs": []
    },
    {
      "cell_type": "code",
      "source": [
        "# Node 2: Extracting Links\n",
        "def extract_links_node(state: RecursiveCrawlState) -> RecursiveCrawlState:\n",
        "    print(\"--- NODE: Extracting links from the web page... ---\")\n",
        "    updates: Dict[str, Optional[Any]] = {\"error_message\": None}\n",
        "\n",
        "    html_content = state.get(\"html_content\")\n",
        "    if not html_content:\n",
        "        updates[\"error_message\"] = \"Error: No HTML content available to extract links.\"\n",
        "        return updates\n",
        "\n",
        "    try:\n",
        "        soup = BeautifulSoup(html_content, 'html.parser')\n",
        "        links = set()  # Set to avoid duplicates\n",
        "        for anchor in soup.find_all('a', href=True):\n",
        "            link = anchor.get('href')\n",
        "            full_url = urljoin(state.get(\"current_url\"), link)\n",
        "            links.add(full_url)\n",
        "        updates[\"discovered_links\"] = list(links)\n",
        "        print(f\"Extracted {len(links)} links.\")\n",
        "    except Exception as e:\n",
        "        updates[\"error_message\"] = f\"Error extracting links: {str(e)}\"\n",
        "\n",
        "    return updates"
      ],
      "metadata": {
        "id": "dpU_VyopduG1"
      },
      "execution_count": 11,
      "outputs": []
    },
    {
      "cell_type": "code",
      "source": [
        "# Node 3: Validating Links\n",
        "def validate_links_node(state: RecursiveCrawlState) -> RecursiveCrawlState:\n",
        "    print(\"--- NODE: Validating links... ---\")\n",
        "    updates: Dict[str, Optional[Any]] = {\"error_message\": None}\n",
        "\n",
        "    discovered_links = state.get(\"discovered_links\", [])\n",
        "    visited_urls = state.get(\"visited_urls\", [])\n",
        "\n",
        "    valid_links = []\n",
        "    for link in discovered_links:\n",
        "        # Avoid revisiting URLs\n",
        "        if link not in visited_urls:\n",
        "            # Basic validation to check if URL is well-formed\n",
        "            if urlparse(link).scheme and urlparse(link).netloc:\n",
        "                valid_links.append(link)\n",
        "\n",
        "    updates[\"valid_links\"] = valid_links\n",
        "    print(f\"Validated {len(valid_links)} links.\")\n",
        "    return updates"
      ],
      "metadata": {
        "id": "S-GF-kisdyml"
      },
      "execution_count": 12,
      "outputs": []
    },
    {
      "cell_type": "code",
      "source": [
        "# Node 4: Recursion/Depth Handling\n",
        "def recursion_node(state: RecursiveCrawlState) -> RecursiveCrawlState:\n",
        "    print(\"--- NODE: Handling recursion... ---\")\n",
        "    updates: Dict[str, Optional[str]] = {\"error_message\": None}\n",
        "\n",
        "    current_depth = state.get(\"current_depth\", 0)\n",
        "    max_depth = state.get(\"max_depth\", 3)\n",
        "    valid_links = state.get(\"valid_links\", [])\n",
        "\n",
        "    # If maximum depth is reached, stop recursion\n",
        "    if current_depth >= max_depth:\n",
        "        print(f\"Maximum depth of {max_depth} reached. Stopping recursion.\")\n",
        "        return updates\n",
        "\n",
        "    # Recursively crawl valid links\n",
        "    for link in valid_links:\n",
        "        if link not in state[\"visited_urls\"]:\n",
        "            state[\"visited_urls\"].append(link)\n",
        "            print(f\"Recursively crawling: {link}\")\n",
        "            updates[\"current_url\"] = link\n",
        "            updates[\"current_depth\"] = current_depth + 1\n",
        "            break\n",
        "    else:\n",
        "        print(\"No new links to crawl.\")\n",
        "        updates[\"current_url\"] = None  # End recursion if no new links to crawl\n",
        "\n",
        "    return updates"
      ],
      "metadata": {
        "id": "nWXpJQBjd0G9"
      },
      "execution_count": 13,
      "outputs": []
    },
    {
      "cell_type": "code",
      "source": [
        "# --- Step 3: Build the Workflow Graph ---\n",
        "workflow = StateGraph(RecursiveCrawlState)\n",
        "\n",
        "workflow.add_node(\"fetch_page\", fetch_page_node)\n",
        "workflow.add_node(\"extract_links\", extract_links_node)\n",
        "workflow.add_node(\"validate_links\", validate_links_node)\n",
        "workflow.add_node(\"recursion\", recursion_node)\n",
        "\n",
        "workflow.set_entry_point(\"fetch_page\")"
      ],
      "metadata": {
        "colab": {
          "base_uri": "https://localhost:8080/"
        },
        "id": "6dl3PcQqd33l",
        "outputId": "12306bfb-a969-474d-a318-267b537e1e3f"
      },
      "execution_count": 14,
      "outputs": [
        {
          "output_type": "execute_result",
          "data": {
            "text/plain": [
              "<langgraph.graph.state.StateGraph at 0x783a46570590>"
            ]
          },
          "metadata": {},
          "execution_count": 14
        }
      ]
    },
    {
      "cell_type": "code",
      "source": [
        "# --- Step 4: Define Conditional Edges for the Workflow ---\n",
        "\n",
        "# Condition after fetching the page\n",
        "def decide_after_fetching(state: RecursiveCrawlState) -> str:\n",
        "    if state.get(\"error_message\") or not state.get(\"html_content\"):\n",
        "        print(f\"--- Condition: Error during page fetch: {state.get('error_message')}, ending workflow. ---\")\n",
        "        return END\n",
        "    else:\n",
        "        print(\"--- Condition: Page fetched successfully, proceeding to link extraction. ---\")\n",
        "        return \"extract_links\"\n",
        "\n",
        "workflow.add_conditional_edges(\n",
        "    \"fetch_page\",\n",
        "    decide_after_fetching,\n",
        "    {\n",
        "        \"extract_links\": \"extract_links\",\n",
        "        END: END\n",
        "    }\n",
        ")"
      ],
      "metadata": {
        "colab": {
          "base_uri": "https://localhost:8080/"
        },
        "id": "BA9njZtvd789",
        "outputId": "e7d2049d-9ba6-4f0c-b9d5-ef16ad9ec826"
      },
      "execution_count": 15,
      "outputs": [
        {
          "output_type": "execute_result",
          "data": {
            "text/plain": [
              "<langgraph.graph.state.StateGraph at 0x783a46570590>"
            ]
          },
          "metadata": {},
          "execution_count": 15
        }
      ]
    },
    {
      "cell_type": "code",
      "source": [
        "# Condition after extracting links\n",
        "def decide_after_extraction(state: RecursiveCrawlState) -> str:\n",
        "    if state.get(\"error_message\") or not state.get(\"discovered_links\"):\n",
        "        print(f\"--- Condition: Error during link extraction: {state.get('error_message')}, ending workflow. ---\")\n",
        "        return END\n",
        "    else:\n",
        "        print(\"--- Condition: Links extracted successfully, proceeding to link validation. ---\")\n",
        "        return \"validate_links\"\n",
        "\n",
        "workflow.add_conditional_edges(\n",
        "    \"extract_links\",\n",
        "    decide_after_extraction,\n",
        "    {\n",
        "        \"validate_links\": \"validate_links\",\n",
        "        END: END\n",
        "    }\n",
        ")"
      ],
      "metadata": {
        "colab": {
          "base_uri": "https://localhost:8080/"
        },
        "id": "FsCnMikRd-R1",
        "outputId": "f216c4f4-5ebe-4814-92e1-40cedfde054e"
      },
      "execution_count": 16,
      "outputs": [
        {
          "output_type": "execute_result",
          "data": {
            "text/plain": [
              "<langgraph.graph.state.StateGraph at 0x783a46570590>"
            ]
          },
          "metadata": {},
          "execution_count": 16
        }
      ]
    },
    {
      "cell_type": "code",
      "source": [
        "# Condition after validating links\n",
        "def decide_after_validation(state: RecursiveCrawlState) -> str:\n",
        "    if state.get(\"error_message\") or not state.get(\"valid_links\"):\n",
        "        print(f\"--- Condition: Error during link validation: {state.get('error_message')}, ending workflow. ---\")\n",
        "        return END\n",
        "    else:\n",
        "        print(\"--- Condition: Links validated successfully, proceeding to recursion (crawling next link). ---\")\n",
        "        return \"recursion\"\n",
        "\n",
        "workflow.add_conditional_edges(\n",
        "    \"validate_links\",\n",
        "    decide_after_validation,\n",
        "    {\n",
        "        \"recursion\": \"recursion\",\n",
        "        END: END\n",
        "    }\n",
        ")"
      ],
      "metadata": {
        "colab": {
          "base_uri": "https://localhost:8080/"
        },
        "id": "HC1tIV72eAIV",
        "outputId": "342fa944-8568-45fd-a93f-ef9a3b3720b4"
      },
      "execution_count": 18,
      "outputs": [
        {
          "output_type": "execute_result",
          "data": {
            "text/plain": [
              "<langgraph.graph.state.StateGraph at 0x783a46570590>"
            ]
          },
          "metadata": {},
          "execution_count": 18
        }
      ]
    },
    {
      "cell_type": "code",
      "source": [
        "# Final step: Exit when no more links to crawl\n",
        "workflow.add_edge(\"recursion\", END)"
      ],
      "metadata": {
        "colab": {
          "base_uri": "https://localhost:8080/"
        },
        "id": "QUW3UtKUeBzl",
        "outputId": "ff5fc298-cffc-4790-8415-a1e98737e6b9"
      },
      "execution_count": 19,
      "outputs": [
        {
          "output_type": "execute_result",
          "data": {
            "text/plain": [
              "<langgraph.graph.state.StateGraph at 0x783a46570590>"
            ]
          },
          "metadata": {},
          "execution_count": 19
        }
      ]
    },
    {
      "cell_type": "code",
      "source": [
        "# --- Step 5: Run the Workflow ---"
      ],
      "metadata": {
        "id": "SqOrKMvOeG31"
      },
      "execution_count": 20,
      "outputs": []
    },
    {
      "cell_type": "code",
      "source": [
        "# Execute the workflow\n",
        "app = workflow.compile()"
      ],
      "metadata": {
        "id": "3n_1ur5zeLLF"
      },
      "execution_count": 21,
      "outputs": []
    },
    {
      "cell_type": "code",
      "source": [
        "# Display graph\n",
        "from IPython.display import display, Image\n",
        "\n",
        "display(Image(app.get_graph().draw_mermaid_png()))"
      ],
      "metadata": {
        "colab": {
          "base_uri": "https://localhost:8080/",
          "height": 548
        },
        "id": "Pt6Ci945eOpF",
        "outputId": "367bd7b5-a896-474f-a69d-2e5dec4c2fae"
      },
      "execution_count": 22,
      "outputs": [
        {
          "output_type": "display_data",
          "data": {
            "image/png": "[encoded data removed]",
            "text/plain": [
              "<IPython.core.display.Image object>"
            ]
          },
          "metadata": {}
        }
      ]
    },
    {
      "cell_type": "code",
      "source": [
        "# Example initial state\n",
        "initial_state = {\n",
        "    \"current_url\": \"https://dreamhack.io/\",   # Starting URL\n",
        "    \"current_depth\": 0,                     # Start from depth 0\n",
        "    \"max_depth\": 3,                         # Maximum recursion depth\n",
        "    \"discovered_links\": [],\n",
        "    \"visited_urls\": []\n",
        "}\n",
        "\n",
        "try:\n",
        "    final_state = app.invoke(initial_state)\n",
        "\n",
        "    # Output results\n",
        "    print(\"\\n--- Crawling Result ---\")\n",
        "    if final_state.get(\"error_message\"):\n",
        "        print(f\"❌ Error occurred: {final_state.get('error_message')}\")\n",
        "    else:\n",
        "        print(f\"✔️ Crawling completed. Discovered URLs: {len(final_state.get('discovered_links'))}\")\n",
        "        print(\"   Discovered URLs: \")\n",
        "        print(final_state.get(\"discovered_links\"))\n",
        "\n",
        "except Exception as e:\n",
        "    print(f\"💥 Exception occurred: {str(e)}\")"
      ],
      "metadata": {
        "colab": {
          "base_uri": "https://localhost:8080/"
        },
        "id": "nrz4a_IeeXLt",
        "outputId": "6d50702c-fe96-4e17-9d9a-20d3f507e7ca"
      },
      "execution_count": 24,
      "outputs": [
        {
          "output_type": "stream",
          "name": "stdout",
          "text": [
            "--- NODE: Fetching the web page... ---\n",
            "Fetching the web page: https://dreamhack.io/\n",
            "Page fetched successfully: https://dreamhack.io/\n",
            "--- Condition: Page fetched successfully, proceeding to link extraction. ---\n",
            "--- NODE: Extracting links from the web page... ---\n",
            "Extracted 38 links.\n",
            "--- Condition: Links extracted successfully, proceeding to link validation. ---\n",
            "--- NODE: Validating links... ---\n",
            "Validated 38 links.\n",
            "--- Condition: Error during link validation: None, ending workflow. ---\n",
            "\n",
            "--- Crawling Result ---\n",
            "✔️ Crawling completed. Discovered URLs: 38\n",
            "   Discovered URLs: \n",
            "['https://dreamhack.io/services/tos', 'https://dreamhack.io/lecture', 'https://dreamhack.io/ctf', 'https://dreamhack.io/myaccount/contact', 'https://dreamhack.io/forum', 'https://dreamhack.io/payments/membership-pricing?redirect=%2F&referer=index-after-subscription-promotion-plan', 'https://www.youtube.com/v/TggmzKJ9x_A', 'https://dreamhack.io/career/home', 'https://dreamhack.io/payments/membership-pricing?redierct=%2F&referer=index-after-landing-floating-button', 'https://x.com/dreamhack_io', 'https://dreamhack.io/users/login?after=%2Fpayments%2Fmembership-pricing', 'https://dreamhack.io/board/notice', 'https://dreamhack.io/', 'https://dreamhack.io/career', 'https://dreamhack.io/ctf/blitz', 'https://dreamhack.io/users/login?after=%2F', 'https://dreamhack.io/forum/review', 'https://dreamhack.io/lecture?type=unit', 'https://dreamhack.io/users/login?after=%2Fpayments%2Fmembership-pricing%3Fredirect%3D%2F%26referer%3D%27index-final-cta', 'https://dreamhack.io/services/faq', 'https://www.youtube.com/@TheoriTV', 'https://dreamhack.io/ranking/community', 'https://dreamhack.io/ranking', 'https://www.youtube.com/v/FM4bpqjnwZI', 'https://www.youtube.com/v/bxNsZdRQIvU', 'https://discord.gg/dreamhackio', 'https://dreamhack.io/payments/membership-pricing?redirect=%2F&referer=index-after-landing-floating-button-mobile', 'https://dreamhack.io/wargame/challenges/new', 'https://dreamhack.io/ranking/ctf', 'https://www.facebook.com/dreamhack.io/', 'https://dreamhack.io/ctf/all', 'https://dreamhack.io/lecture?type=path', 'https://www.ftc.go.kr/bizCommPop.do?wrkr_no=2638100731', 'https://dreamhack.io/services/privacy', 'https://dreamhack.io/wargame', 'https://dreamhack.io/ranking/wargame', 'https://www.isc2.org/Insights/2024/10/ISC2-2024-Cybersecurity-Workforce-Study', 'https://dreamhack.io/enterprise/introduction']\n"
          ]
        }
      ]
    }
  ]
}