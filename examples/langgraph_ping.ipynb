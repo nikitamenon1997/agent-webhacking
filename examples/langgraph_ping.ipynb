{
 "cells": [
  {
   "cell_type": "code",
   "execution_count": 23,
   "id": "8e3b2faa",
   "metadata": {},
   "outputs": [
    {
     "data": {
      "text/plain": [
       "True"
      ]
     },
     "execution_count": 23,
     "metadata": {},
     "output_type": "execute_result"
    }
   ],
   "source": [
    "import os\n",
    "import re\n",
    "from typing import TypedDict, Optional, Dict, Any\n",
    "from dotenv import load_dotenv\n",
    "import warnings\n",
    "\n",
    "warnings.filterwarnings(\"ignore\")\n",
    "\n",
    "from langchain_community.tools import ShellTool\n",
    "from langchain_core.prompts import ChatPromptTemplate\n",
    "from langchain_core.output_parsers import StrOutputParser\n",
    "from langchain_openai import ChatOpenAI\n",
    "from langgraph.graph import StateGraph, END, START\n",
    "\n",
    "load_dotenv()"
   ]
  },
  {
   "cell_type": "code",
   "execution_count": 24,
   "id": "995c92d1",
   "metadata": {},
   "outputs": [],
   "source": [
    "# --- 1. 상태 정의 ---\n",
    "class HostCheckState(TypedDict):\n",
    "    target_ip: str  # 입력: 확인할 IP 주소\n",
    "    check_intent: str # 입력: 사용자의 확인 의도 (예: \"3번만 ping 보내줘\")\n",
    "    generated_command_raw: Optional[str] # LLM이 생성한 원본 명령어\n",
    "    ping_command: Optional[str]  # 검증된 ping 명령어\n",
    "    raw_ping_output: Optional[str]  # ping 실행의 원시 출력\n",
    "    is_alive: Optional[bool] # 호스트 생존 여부\n",
    "    ping_summary: Optional[str] # ping 결과 요약\n",
    "    error_message: Optional[str]  # 오류 발생 시 메시지 저장"
   ]
  },
  {
   "cell_type": "code",
   "execution_count": 25,
   "id": "aa839914",
   "metadata": {},
   "outputs": [],
   "source": [
    "# --- 2. LLM 및 관련 구성 요소 초기화 (명령어 생성용) ---\n",
    "try:\n",
    "    llm = ChatOpenAI(model=\"gpt-4o-mini\", temperature=0.0)\n",
    "except Exception as e:\n",
    "    print(f\"ChatOpenAI 초기화 중 오류: {e}. API 키가 올바르게 설정되었는지 확인하세요.\")\n",
    "    llm = None\n",
    "\n",
    "# 🚨 이 프롬프트는 LLM의 출력을 제어하고 안전을 확보하기 위한 매우 중요한 부분입니다.\n",
    "PING_COMMAND_GENERATION_PROMPT_TEMPLATE = ChatPromptTemplate.from_messages([\n",
    "    (\"system\",\n",
    "     \"당신은 네트워크 유틸리티 전문가입니다. 사용자의 의도와 대상 IP를 기반으로 'ping' 명령어를 생성해야 합니다. \"\n",
    "     \"생성된 명령어는 반드시 'ping'으로 시작해야 합니다. \"\n",
    "     \"이 명령어는 호스트의 응답 여부를 확인하는 목적으로만 사용되어야 합니다. \"\n",
    "     \"기본적으로 Linux 환경을 가정하여 명령어를 생성해주세요 (예: 'ping -c <횟수> <대상 IP>'). \"\n",
    "     \"사용자 의도에 횟수나 간격 등의 조건이 있다면 반영하되, 없다면 기본값(예: 3-4회)을 사용하세요. \"\n",
    "     \"대상 IP 주소는 명령어에 정확하게 포함되어야 합니다. \"\n",
    "     \"출력은 오직 생성된 ping 명령어 문자열만이어야 하며, 다른 설명이나 추가 텍스트는 포함하지 마십시오. \"\n",
    "     \"만약 사용자의 의도가 불분명하거나 안전하지 않다고 판단되면, 명령어 대신 'Error: Intent unclear or potentially unsafe.' 라고 정확히 응답하십시오.\"),\n",
    "    (\"human\", \"대상 IP: {target_ip}\\n확인 의도: {check_intent}\\n\\n생성할 Ping 명령어:\")\n",
    "])\n",
    "\n",
    "if llm:\n",
    "    ping_command_generation_chain = PING_COMMAND_GENERATION_PROMPT_TEMPLATE | llm | StrOutputParser()\n",
    "else:\n",
    "    def fallback_ping_chain(_):\n",
    "        return \"Error: LLM not initialized. Cannot generate ping command.\"\n",
    "    ping_command_generation_chain = fallback_ping_chain"
   ]
  },
  {
   "cell_type": "code",
   "execution_count": 26,
   "id": "afe60136",
   "metadata": {},
   "outputs": [
    {
     "data": {
      "text/plain": [
       "ChatPromptTemplate(input_variables=['check_intent', 'target_ip'], input_types={}, partial_variables={}, messages=[SystemMessagePromptTemplate(prompt=PromptTemplate(input_variables=[], input_types={}, partial_variables={}, template=\"당신은 네트워크 유틸리티 전문가입니다. 사용자의 의도와 대상 IP를 기반으로 'ping' 명령어를 생성해야 합니다. 생성된 명령어는 반드시 'ping'으로 시작해야 합니다. 이 명령어는 호스트의 응답 여부를 확인하는 목적으로만 사용되어야 합니다. 기본적으로 Linux 환경을 가정하여 명령어를 생성해주세요 (예: 'ping -c <횟수> <대상 IP>'). 사용자 의도에 횟수나 간격 등의 조건이 있다면 반영하되, 없다면 기본값(예: 3-4회)을 사용하세요. 대상 IP 주소는 명령어에 정확하게 포함되어야 합니다. 출력은 오직 생성된 ping 명령어 문자열만이어야 하며, 다른 설명이나 추가 텍스트는 포함하지 마십시오. 만약 사용자의 의도가 불분명하거나 안전하지 않다고 판단되면, 명령어 대신 'Error: Intent unclear or potentially unsafe.' 라고 정확히 응답하십시오.\"), additional_kwargs={}), HumanMessagePromptTemplate(prompt=PromptTemplate(input_variables=['check_intent', 'target_ip'], input_types={}, partial_variables={}, template='대상 IP: {target_ip}\\n확인 의도: {check_intent}\\n\\n생성할 Ping 명령어:'), additional_kwargs={})])\n",
       "| ChatOpenAI(client=<openai.resources.chat.completions.Completions object at 0x123cd3390>, async_client=<openai.resources.chat.completions.AsyncCompletions object at 0x1241c6c10>, root_client=<openai.OpenAI object at 0x123cbbc50>, root_async_client=<openai.AsyncOpenAI object at 0x123cd34d0>, model_name='gpt-4o-mini', temperature=0.0, model_kwargs={}, openai_api_key=SecretStr('**********'))\n",
       "| StrOutputParser()"
      ]
     },
     "execution_count": 26,
     "metadata": {},
     "output_type": "execute_result"
    }
   ],
   "source": [
    "ping_command_generation_chain"
   ]
  },
  {
   "cell_type": "code",
   "execution_count": 27,
   "id": "157d7914",
   "metadata": {},
   "outputs": [],
   "source": [
    "# --- 3. 노드 함수 정의 ---\n",
    "\n",
    "def generate_and_validate_ping_command_node(state: HostCheckState) -> HostCheckState:\n",
    "    print(\"--- NODE: Ping 명령어 생성 및 검증 중... ---\")\n",
    "    target_ip = state.get(\"target_ip\")\n",
    "    check_intent = state.get(\"check_intent\")\n",
    "    updates: Dict[str, Optional[str]] = {\"error_message\": None}\n",
    "\n",
    "    if not target_ip or not check_intent:\n",
    "        updates[\"error_message\"] = \"오류: 대상 IP 또는 확인 의도가 제공되지 않았습니다.\"\n",
    "        return updates\n",
    "\n",
    "    try:\n",
    "        print(f\"LLM에게 Ping 명령어 생성 요청 (IP: {target_ip}, 의도: {check_intent})\")\n",
    "        generated_command_str = ping_command_generation_chain.invoke({\n",
    "            \"target_ip\": target_ip,\n",
    "            \"check_intent\": check_intent\n",
    "        })\n",
    "        updates[\"generated_command_raw\"] = generated_command_str\n",
    "        print(f\"LLM 생성 원본 명령어: '{generated_command_str}'\")\n",
    "\n",
    "        stripped_command = generated_command_str.strip()\n",
    "\n",
    "        if stripped_command.startswith(\"Error:\"):\n",
    "            raise ValueError(f\"LLM 오류 반환: {stripped_command}\")\n",
    "\n",
    "        if not stripped_command.startswith(\"ping \"): # 'ping' 뒤에 공백 중요\n",
    "            raise ValueError(\"생성된 명령어가 'ping '으로 시작하지 않습니다.\")\n",
    "\n",
    "        if target_ip not in stripped_command:\n",
    "            # IP 주소 검증 강화 필요 (예: 정규식)\n",
    "            print(f\"경고: 대상 IP({target_ip})가 생성된 명령어에 문자열 그대로 포함되지 않았을 수 있습니다. 명령어: '{stripped_command}'\")\n",
    "\n",
    "        # 기본적인 위험 키워드 필터링 (ping 명령어는 상대적으로 옵션이 적지만, 여전히 주의)\n",
    "        forbidden_keywords = [\";\", \"&&\", \"||\", \"`\", \"$(\", \"sudo\", \"rm \", \"mv \", \"cp \", \">\", \"<\", \"|&\", \"nmap\", \"nc \", \"wget\", \"curl\"]\n",
    "        for keyword in forbidden_keywords:\n",
    "            if keyword in stripped_command:\n",
    "                raise ValueError(f\"명령어에 허용되지 않는 키워드 '{keyword}' 포함됨.\")\n",
    "        \n",
    "        # ping 명령어의 옵션은 비교적 안전하지만, 과도한 패킷 크기나 요청률을 유도하는 옵션은 주의\n",
    "        # 예: -s (패킷 크기)가 너무 크거나, -i (간격)이 너무 짧은 경우 등\n",
    "        # 이 예제에서는 상세한 옵션 값 검증은 생략합니다.\n",
    "\n",
    "        print(f\"기본 검증 통과: '{stripped_command}'\")\n",
    "        updates[\"ping_command\"] = stripped_command\n",
    "\n",
    "    except Exception as e:\n",
    "        print(f\"Ping 명령어 생성/검증 중 오류: {e}\")\n",
    "        updates[\"error_message\"] = f\"Ping 명령어 생성/검증 오류: {str(e)}\"\n",
    "    \n",
    "    return updates"
   ]
  },
  {
   "cell_type": "code",
   "execution_count": 28,
   "id": "fe621703",
   "metadata": {},
   "outputs": [],
   "source": [
    "def execute_ping_node(state: HostCheckState) -> HostCheckState:\n",
    "    print(\"--- NODE: Ping 실행 중... ---\")\n",
    "    updates: Dict[str, Optional[str]] = {\"error_message\": None}\n",
    "    if state.get(\"error_message\"):\n",
    "        print(f\"이전 단계 오류로 Ping 실행 중단: {state.get('error_message')}\")\n",
    "        return {}\n",
    "\n",
    "    ping_command = state.get(\"ping_command\")\n",
    "    if not ping_command:\n",
    "        updates[\"error_message\"] = \"오류: 실행할 Ping 명령어가 없습니다.\"\n",
    "        return updates\n",
    "\n",
    "    shell_tool = ShellTool()\n",
    "    try:\n",
    "        print(f\"실행 명령어: {ping_command}\")\n",
    "        raw_output = shell_tool.invoke(ping_command)\n",
    "        updates[\"raw_ping_output\"] = raw_output\n",
    "    except Exception as e:\n",
    "        print(f\"Ping 실행 중 오류: {e}\")\n",
    "        updates[\"error_message\"] = f\"Ping 실행 중 오류 발생: {str(e)}\"\n",
    "    \n",
    "    return updates"
   ]
  },
  {
   "cell_type": "code",
   "execution_count": 29,
   "id": "968b0075",
   "metadata": {},
   "outputs": [],
   "source": [
    "def parse_ping_results_node(state: HostCheckState) -> HostCheckState:\n",
    "    print(\"--- NODE: Ping 결과 파싱 중... ---\")\n",
    "    updates: Dict[str, Any] = {\"is_alive\": False, \"ping_summary\": \"No response or failed to parse.\", \"error_message\": state.get(\"error_message\")} # 기본값 설정\n",
    "    \n",
    "    if state.get(\"error_message\") and not state.get(\"raw_ping_output\"):\n",
    "        print(f\"이전 단계 오류 또는 결과 없음으로 파싱 중단: {state.get('error_message')}\")\n",
    "        return updates # 이미 설정된 에러 메시지 유지하며 is_alive=False\n",
    "\n",
    "    raw_output = state.get(\"raw_ping_output\")\n",
    "    if not raw_output:\n",
    "        updates[\"error_message\"] = \"오류: 파싱할 Ping 결과가 없습니다.\"\n",
    "        return updates\n",
    "\n",
    "    # Linux ping 출력 기준 파싱 (간단화된 버전)\n",
    "    # 성공 예: \"0% packet loss\" 또는 \"bytes from\" 포함, time=...\n",
    "    # 실패 예: \"100% packet loss\" 또는 \"Destination Host Unreachable\"\n",
    "    \n",
    "    # 좀 더 관대한 성공/실패 조건 설정\n",
    "    if \"bytes from\" in raw_output.lower() and \"time=\" in raw_output.lower() and \"0% packet loss\" in raw_output.lower(): # 가장 확실한 성공\n",
    "        updates[\"is_alive\"] = True\n",
    "        updates[\"ping_summary\"] = \"Host is alive (0% packet loss).\"\n",
    "    elif \"bytes from\" in raw_output.lower() and \"time=\" in raw_output.lower(): # 일부 패킷 손실 있어도 응답은 온 경우\n",
    "        updates[\"is_alive\"] = True\n",
    "        loss_match = re.search(r\"(\\d+)% packet loss\", raw_output)\n",
    "        loss_percent = loss_match.group(1) if loss_match else \"unknown\"\n",
    "        updates[\"ping_summary\"] = f\"Host is alive (responded, {loss_percent}% packet loss).\"\n",
    "    elif \"0 received\" in raw_output.lower() or \"100% packet loss\" in raw_output.lower():\n",
    "        updates[\"is_alive\"] = False\n",
    "        updates[\"ping_summary\"] = \"Host is NOT alive (100% packet loss or 0 received).\"\n",
    "    elif \"destination host unreachable\" in raw_output.lower():\n",
    "        updates[\"is_alive\"] = False\n",
    "        updates[\"ping_summary\"] = \"Host is NOT alive (Destination Host Unreachable).\"\n",
    "    elif \"name or service not known\" in raw_output.lower():\n",
    "        updates[\"is_alive\"] = False\n",
    "        updates[\"ping_summary\"] = \"Host name or service not known.\"\n",
    "        updates[\"error_message\"] = \"DNS resolution failed or invalid hostname.\" # 추가 에러 정보\n",
    "    else:\n",
    "        # 위 조건에 맞지 않는 경우, 원본 출력의 일부를 요약으로 사용\n",
    "        summary_lines = raw_output.splitlines()\n",
    "        # 마지막 몇 줄 (통계 정보가 있을 수 있음) 또는 주요 메시지\n",
    "        if len(summary_lines) > 3:\n",
    "            updates[\"ping_summary\"] = \"\\n\".join(summary_lines[-3:])\n",
    "        else:\n",
    "            updates[\"ping_summary\"] = raw_output[:200] # 처음 200자\n",
    "        # is_alive는 불확실하므로 False 유지하거나, 추가적인 분석 필요\n",
    "        print(f\"Ping 결과가 명확하지 않음. 원본 출력: {raw_output[:100]}...\")\n",
    "\n",
    "    print(f\"파싱 결과: is_alive={updates['is_alive']}, summary='{updates['ping_summary']}'\")\n",
    "    return updates"
   ]
  },
  {
   "cell_type": "code",
   "execution_count": 30,
   "id": "53048a56",
   "metadata": {},
   "outputs": [
    {
     "data": {
      "text/plain": [
       "<langgraph.graph.state.StateGraph at 0x1241c6d50>"
      ]
     },
     "execution_count": 30,
     "metadata": {},
     "output_type": "execute_result"
    }
   ],
   "source": [
    "# --- 4. 그래프 빌드 ---\n",
    "workflow = StateGraph(HostCheckState)\n",
    "\n",
    "workflow.add_node(\"generate_and_validate_ping_command\", generate_and_validate_ping_command_node)\n",
    "workflow.add_node(\"execute_ping\", execute_ping_node)\n",
    "workflow.add_node(\"parse_ping_results\", parse_ping_results_node)\n",
    "\n",
    "workflow.set_entry_point(\"generate_and_validate_ping_command\")"
   ]
  },
  {
   "cell_type": "code",
   "execution_count": 31,
   "id": "28fedbb5",
   "metadata": {},
   "outputs": [
    {
     "data": {
      "text/plain": [
       "<langgraph.graph.state.StateGraph at 0x1241c6d50>"
      ]
     },
     "execution_count": 31,
     "metadata": {},
     "output_type": "execute_result"
    }
   ],
   "source": [
    "def decide_after_command_gen(state: HostCheckState) -> str:\n",
    "    if state.get(\"error_message\") or not state.get(\"ping_command\"):\n",
    "        print(\"--- 조건: Ping 명령어 생성/검증 실패 또는 명령어 없음, 종료 ---\")\n",
    "        return END\n",
    "    else:\n",
    "        print(\"--- 조건: Ping 명령어 생성/검증 성공, Ping 실행으로 ---\")\n",
    "        return \"execute_ping\"\n",
    "\n",
    "workflow.add_conditional_edges(\n",
    "    \"generate_and_validate_ping_command\",\n",
    "    decide_after_command_gen,\n",
    "    {\n",
    "        \"execute_ping\": \"execute_ping\",\n",
    "        END: END\n",
    "    }\n",
    ")"
   ]
  },
  {
   "cell_type": "code",
   "execution_count": 32,
   "id": "585d8168",
   "metadata": {},
   "outputs": [
    {
     "data": {
      "text/plain": [
       "<langgraph.graph.state.StateGraph at 0x1241c6d50>"
      ]
     },
     "execution_count": 32,
     "metadata": {},
     "output_type": "execute_result"
    }
   ],
   "source": [
    "def decide_after_ping_execution(state: HostCheckState) -> str:\n",
    "    if state.get(\"error_message\") and not state.get(\"raw_ping_output\"): # 실행 중 에러 발생\n",
    "        print(f\"--- 조건: Ping 실행 실패 ({state.get('error_message')}), 종료 ---\")\n",
    "        return END\n",
    "    else: # 실행은 되었으나 결과가 없을 수도 있음 (예: 타임아웃)\n",
    "        print(\"--- 조건: Ping 실행 완료 (성공/실패 무관), 결과 파싱으로 ---\")\n",
    "        return \"parse_ping_results\"\n",
    "\n",
    "workflow.add_conditional_edges(\n",
    "    \"execute_ping\",\n",
    "    decide_after_ping_execution,\n",
    "    {\n",
    "        \"parse_ping_results\": \"parse_ping_results\",\n",
    "        END: END\n",
    "    }\n",
    ")\n",
    "\n",
    "workflow.add_edge(\"parse_ping_results\", END)"
   ]
  },
  {
   "cell_type": "code",
   "execution_count": 33,
   "id": "1baae868",
   "metadata": {},
   "outputs": [],
   "source": [
    "app = workflow.compile()"
   ]
  },
  {
   "cell_type": "code",
   "execution_count": null,
   "id": "cf532b0e",
   "metadata": {},
   "outputs": [
    {
     "name": "stdout",
     "output_type": "stream",
     "text": [
      "📢 8.8.8.8에 대한 Ping 테스트를 시작합니다...\n",
      "   확인 의도: 이 호스트가 살아있는지 확인하기 위해 6번만 ping을 보내줘.\n",
      "---\n",
      "--- NODE: Ping 명령어 생성 및 검증 중... ---\n",
      "LLM에게 Ping 명령어 생성 요청 (IP: 8.8.8.8, 의도: 이 호스트가 살아있는지 확인하기 위해 6번만 ping을 보내줘.)\n",
      "LLM 생성 원본 명령어: 'ping -c 6 8.8.8.8'\n",
      "기본 검증 통과: 'ping -c 6 8.8.8.8'\n",
      "--- 조건: Ping 명령어 생성/검증 성공, Ping 실행으로 ---\n",
      "--- NODE: Ping 실행 중... ---\n",
      "실행 명령어: ping -c 6 8.8.8.8\n",
      "Executing command:\n",
      " ping -c 6 8.8.8.8\n",
      "--- 조건: Ping 실행 완료 (성공/실패 무관), 결과 파싱으로 ---\n",
      "--- NODE: Ping 결과 파싱 중... ---\n",
      "파싱 결과: is_alive=True, summary='Host is alive (0% packet loss).'\n",
      "\n",
      "---\n",
      "📊 최종 Ping 테스트 결과:\n",
      "  - 대상 IP: 8.8.8.8\n",
      "  - 확인 의도: 이 호스트가 살아있는지 확인하기 위해 6번만 ping을 보내줘.\n",
      "  - LLM 생성 원본 명령어: ping -c 6 8.8.8.8\n",
      "  - 실행된 (검증된) 명령어: ping -c 6 8.8.8.8\n",
      "  - 호스트 생존 여부: 🟢 살아있음 (응답)\n",
      "  - Ping 결과 요약: Host is alive (0% packet loss).\n",
      "\n",
      "--- 상세 원시 출력 (필요시 주석 해제) ---\n",
      "PING 8.8.8.8 (8.8.8.8): 56 data bytes\n",
      "64 bytes from 8.8.8.8: icmp_seq=0 ttl=112 time=43.737 ms\n",
      "64 bytes from 8.8.8.8: icmp_seq=1 ttl=112 time=47.044 ms\n",
      "64 bytes from 8.8.8.8: icmp_seq=2 ttl=112 time=47.780 ms\n",
      "64 bytes from 8.8.8.8: icmp_seq=3 ttl=112 time=47.656 ms\n",
      "64 bytes from 8.8.8.8: icmp_seq=4 ttl=112 time=44.645 ms\n",
      "64 bytes from 8.8.8.8: icmp_seq=5 ttl=112 time=47.910 ms\n",
      "\n",
      "--- 8.8.8.8 ping statistics ---\n",
      "6 packets transmitted, 6 packets received, 0.0% packet loss\n",
      "round-trip min/avg/max/stddev = 43.737/46.462/47.910/1.650 ms\n",
      "\n"
     ]
    }
   ],
   "source": [
    "# target_ip_to_check = \"127.0.0.1\"  # 로컬호스트\n",
    "target_ip_to_check = \"8.8.8.8\"  # Google DNS (일반적으로 ping 응답)\n",
    "# target_ip_to_check = \"192.0.2.1\" # 응답하지 않을 가능성이 높은 테스트 IP (TEST-NET-1)\n",
    "# target_ip_to_check = \"nonexistenthostname12345.com\" # DNS 실패 유도\n",
    "\n",
    "check_intent_for_llm = \"이 호스트가 살아있는지 확인하기 위해 3번만 ping을 보내줘.\"\n",
    "# check_intent_for_llm = \"빠르게 한번만 ping 보내줘.\"\n",
    "\n",
    "print(f\"📢 {target_ip_to_check}에 대한 Ping 테스트를 시작합니다...\")\n",
    "print(f\"   확인 의도: {check_intent_for_llm}\")\n",
    "print(\"---\")\n",
    "\n",
    "initial_state = {\n",
    "    \"target_ip\": target_ip_to_check,\n",
    "    \"check_intent\": check_intent_for_llm\n",
    "}\n",
    "\n",
    "if not os.getenv(\"OPENAI_API_KEY\") or not llm:\n",
    "    print(\"OPENAI_API_KEY가 설정되지 않았거나 LLM 초기화에 실패하여 테스트를 실행할 수 없습니다.\")\n",
    "else:\n",
    "    try:\n",
    "        final_state = app.invoke(initial_state, {\"recursion_limit\": 10})\n",
    "\n",
    "        print(\"\\n---\")\n",
    "        print(\"📊 최종 Ping 테스트 결과:\")\n",
    "        current_error = final_state.get(\"error_message\")\n",
    "        if current_error: # 최종 상태의 에러 메시지 (어느 단계에서든 발생 가능)\n",
    "            print(f\"❌ 작업 중 오류 발생: {current_error}\")\n",
    "        \n",
    "        print(f\"  - 대상 IP: {final_state.get('target_ip')}\")\n",
    "        print(f\"  - 확인 의도: {final_state.get('check_intent')}\")\n",
    "        print(f\"  - LLM 생성 원본 명령어: {final_state.get('generated_command_raw')}\")\n",
    "        print(f\"  - 실행된 (검증된) 명령어: {final_state.get('ping_command')}\")\n",
    "        \n",
    "        is_alive = final_state.get('is_alive')\n",
    "        if is_alive is not None:\n",
    "            print(f\"  - 호스트 생존 여부: {'🟢 살아있음 (응답)' if is_alive else '🔴 응답 없음 / 실패'}\")\n",
    "        else:\n",
    "            print(\"  - 호스트 생존 여부: ⚠️ 판단 불가 (결과 파싱 실패 또는 실행 안됨)\")\n",
    "\n",
    "        print(f\"  - Ping 결과 요약: {final_state.get('ping_summary')}\")\n",
    "        \n",
    "        print(\"\\n--- 상세 원시 출력 (필요시 주석 해제) ---\")\n",
    "        if final_state.get('raw_ping_output'):\n",
    "            print(final_state.get('raw_ping_output'))\n",
    "        else:\n",
    "            print(\"(원시 출력 없음)\")\n",
    "\n",
    "    except Exception as e:\n",
    "        print(f\"💥 그래프 실행 중 예외 발생: {e}\")\n",
    "        print(\"   (ping 유틸리티가 설치되어 있는지, ShellTool 실행 시 터미널 확인이 필요한지, OpenAI API 키 상태 등을 확인하세요.)\")\n",
    "\n"
   ]
  }
 ],
 "metadata": {
  "kernelspec": {
   "display_name": ".venv",
   "language": "python",
   "name": "python3"
  },
  "language_info": {
   "codemirror_mode": {
    "name": "ipython",
    "version": 3
   },
   "file_extension": ".py",
   "mimetype": "text/x-python",
   "name": "python",
   "nbconvert_exporter": "python",
   "pygments_lexer": "ipython3",
   "version": "3.13.3"
  }
 },
 "nbformat": 4,
 "nbformat_minor": 5
}
