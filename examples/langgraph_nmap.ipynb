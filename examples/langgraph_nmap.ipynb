{
 "cells": [
  {
   "cell_type": "code",
   "execution_count": null,
   "id": "59885864",
   "metadata": {},
   "outputs": [],
   "source": [
    "# --- Imports ---\n",
    "import os\n",
    "import re\n",
    "import subprocess\n",
    "from typing import List, Optional, Dict, Any, TypedDict\n",
    "from dotenv import load_dotenv\n",
    "from langgraph.graph import StateGraph, END\n",
    "from langchain_core.output_parsers import StrOutputParser\n",
    "from langchain_core.prompts import ChatPromptTemplate\n",
    "from langchain_openai import ChatOpenAI\n",
    "\n",
    "load_dotenv()"
   ]
  },
  {
   "cell_type": "code",
   "execution_count": null,
   "id": "c79abcf7",
   "metadata": {},
   "outputs": [],
   "source": [
    "# --- Step 1: Define State ---\n",
    "class PortScanState(TypedDict):\n",
    "    target_ip: str\n",
    "    scan_intent: str\n",
    "    llm_command_raw: Optional[str]\n",
    "    validated_command: Optional[str]\n",
    "    scan_output: Optional[str]\n",
    "    open_ports: List[int]\n",
    "    web_ports: List[int]\n",
    "    detailed_commands: List[str]\n",
    "    detailed_outputs: List[str]\n",
    "    error_message: Optional[str]"
   ]
  },
  {
   "cell_type": "code",
   "execution_count": null,
   "id": "d49403b4",
   "metadata": {},
   "outputs": [],
   "source": [
    "# --- Step 2: LLM and Prompt Setup ---\n",
    "llm = ChatOpenAI(model=\"gpt-4o-mini\", temperature=0.0)\n",
    "\n",
    "FAST_SCAN_PROMPT = ChatPromptTemplate.from_messages([\n",
    "    (\"system\",\n",
    "     \"You are a penetration tester and Nmap expert. Based on the user's scan intent and IP, generate a fast Nmap command. \"\n",
    "     \"Use options like -T4 -Pn for speed. Do NOT include anything except the raw command. \"\n",
    "     \"It must begin with 'nmap' and target the given IP.\"),\n",
    "    (\"human\", \"Target: {target_ip}\\nIntent: {scan_intent}\")\n",
    "])\n",
    "\n",
    "DETAILED_SCAN_PROMPT = ChatPromptTemplate.from_messages([\n",
    "    (\"system\",\n",
    "     \"You are a penetration tester. Based on this list of open ports and initial scan results, \"\n",
    "     \"generate a list of Nmap commands for deeper analysis of any web-related services (e.g. HTTP/S, proxy, admin panels). \"\n",
    "     \"Use options like -sCV or --script=http-* where appropriate. Only output Nmap commands, no extra explanation.\"),\n",
    "    (\"human\", \"Scan output:\\n{scan_output}\")\n",
    "])\n",
    "\n",
    "fast_scan_chain = FAST_SCAN_PROMPT | llm | StrOutputParser()\n",
    "detailed_scan_chain = DETAILED_SCAN_PROMPT | llm | StrOutputParser()"
   ]
  },
  {
   "cell_type": "code",
   "execution_count": null,
   "id": "b9a0c55b",
   "metadata": {},
   "outputs": [],
   "source": [
    "# --- Step 3: Node Definitions ---\n",
    "def generate_scan_command(state: PortScanState) -> PortScanState:\n",
    "    print(\"🔧 Generating fast scan command...\")\n",
    "    cmd = fast_scan_chain.invoke({\n",
    "        \"target_ip\": state[\"target_ip\"],\n",
    "        \"scan_intent\": state[\"scan_intent\"]\n",
    "    })\n",
    "    return {\"llm_command_raw\": cmd.strip(), \"error_message\": None}"
   ]
  },
  {
   "cell_type": "code",
   "execution_count": null,
   "id": "f1187fb9",
   "metadata": {},
   "outputs": [],
   "source": [
    "def validate_command(state: PortScanState) -> PortScanState:\n",
    "    print(\"🔒 Validating generated command...\")\n",
    "    cmd = state.get(\"llm_command_raw\", \"\").strip()\n",
    "    if not cmd.startswith(\"nmap\"):\n",
    "        return {\"error_message\": \"Invalid command (does not start with nmap)\"}\n",
    "    if any(x in cmd for x in [\";\", \"&&\", \"|\", \">\", \"<\", \"rm\", \"sudo\"]):\n",
    "        return {\"error_message\": \"Command contains forbidden characters\"}\n",
    "    if state[\"target_ip\"] not in cmd:\n",
    "        return {\"error_message\": \"Target IP missing in command\"}\n",
    "    return {\"validated_command\": cmd, \"error_message\": None}"
   ]
  },
  {
   "cell_type": "code",
   "execution_count": null,
   "id": "1bf1d8d4",
   "metadata": {},
   "outputs": [],
   "source": [
    "def execute_scan(state: PortScanState) -> PortScanState:\n",
    "    print(f\"🚀 Executing: {state['validated_command']}\")\n",
    "    try:\n",
    "        output = subprocess.check_output(state[\"validated_command\"], shell=True, text=True, timeout=60)\n",
    "        return {\"scan_output\": output, \"error_message\": None}\n",
    "    except Exception as e:\n",
    "        return {\"error_message\": f\"Scan failed: {e}\"}"
   ]
  },
  {
   "cell_type": "code",
   "execution_count": null,
   "id": "dc634ab2",
   "metadata": {},
   "outputs": [],
   "source": [
    "def parse_open_ports(state: PortScanState) -> PortScanState:\n",
    "    print(\"🧠 Parsing open ports...\")\n",
    "    output = state.get(\"scan_output\", \"\")\n",
    "    ports = set()\n",
    "    for line in output.splitlines():\n",
    "        match = re.match(r\"(\\d+)/tcp\\s+open\", line)\n",
    "        if match:\n",
    "            ports.add(int(match.group(1)))\n",
    "    return {\"open_ports\": sorted(list(ports)), \"error_message\": None}"
   ]
  },
  {
   "cell_type": "code",
   "execution_count": null,
   "id": "4f858ec3",
   "metadata": {},
   "outputs": [],
   "source": [
    "def identify_web_ports_via_llm(state: PortScanState) -> PortScanState:\n",
    "    print(\"🤖 Using LLM to identify web-related ports...\")\n",
    "    try:\n",
    "        result = detailed_scan_chain.invoke({\"scan_output\": state[\"scan_output\"]})\n",
    "        commands = [line.strip() for line in result.splitlines() if line.strip().startswith(\"nmap\")]\n",
    "        return {\n",
    "            \"detailed_commands\": commands,\n",
    "            \"web_ports\": [],  # Optionally parse ports again\n",
    "            \"error_message\": None\n",
    "        }\n",
    "    except Exception as e:\n",
    "        return {\"error_message\": f\"Web port analysis failed: {e}\"}"
   ]
  },
  {
   "cell_type": "code",
   "execution_count": null,
   "id": "6a5604ec",
   "metadata": {},
   "outputs": [],
   "source": [
    "def execute_detailed_scans(state: PortScanState) -> PortScanState:\n",
    "    print(\"🔍 Running detailed scans...\")\n",
    "    results = []\n",
    "    for cmd in state.get(\"detailed_commands\", []):\n",
    "        try:\n",
    "            print(f\"→ {cmd}\")\n",
    "            output = subprocess.check_output(cmd, shell=True, text=True, timeout=90)\n",
    "            results.append(output)\n",
    "        except Exception as e:\n",
    "            results.append(f\"Error: {e}\")\n",
    "    return {\"detailed_outputs\": results}"
   ]
  },
  {
   "cell_type": "code",
   "execution_count": null,
   "id": "36a4bab1",
   "metadata": {},
   "outputs": [],
   "source": [
    "# --- Step 4: Build LangGraph Workflow ---\n",
    "workflow = StateGraph(PortScanState)\n",
    "\n",
    "workflow.add_node(\"generate_scan_command\", generate_scan_command)\n",
    "workflow.add_node(\"validate_command\", validate_command)\n",
    "workflow.add_node(\"execute_scan\", execute_scan)\n",
    "workflow.add_node(\"parse_open_ports\", parse_open_ports)\n",
    "workflow.add_node(\"identify_web_ports\", identify_web_ports_via_llm)\n",
    "workflow.add_node(\"execute_detailed_scans\", execute_detailed_scans)\n",
    "\n",
    "workflow.set_entry_point(\"generate_scan_command\")\n",
    "\n",
    "workflow.add_edge(\"generate_scan_command\", \"validate_command\")\n",
    "workflow.add_edge(\"validate_command\", \"execute_scan\")\n",
    "workflow.add_edge(\"execute_scan\", \"parse_open_ports\")\n",
    "workflow.add_edge(\"parse_open_ports\", \"identify_web_ports\")\n",
    "workflow.add_edge(\"identify_web_ports\", \"execute_detailed_scans\")\n",
    "workflow.add_edge(\"execute_detailed_scans\", END)\n",
    "\n",
    "app = workflow.compile()"
   ]
  },
  {
   "cell_type": "code",
   "execution_count": null,
   "id": "6766ce36",
   "metadata": {},
   "outputs": [],
   "source": [
    "# --- Step 5: Run Example ---\n",
    "if __name__ == \"__main__\":\n",
    "    test_input = {\n",
    "        \"target_ip\": \"127.0.0.1\",\n",
    "        \"scan_intent\": \"Permfrom fast scan to find open ports, and perform detailed scan on identified web ports.\",\n",
    "        \"open_ports\": [],\n",
    "        \"web_ports\": [],\n",
    "        \"detailed_commands\": [],\n",
    "        \"detailed_outputs\": [],\n",
    "        \"error_message\": None\n",
    "    }\n",
    "\n",
    "    result = app.invoke(test_input)\n",
    "    print(\"\\n🧾 Final Results:\")\n",
    "    print(f\"Target: {result['target_ip']}\")\n",
    "    print(\"Open Ports:\", result.get(\"open_ports\", []))\n",
    "    print(\"Detailed Commands:\", result.get(\"detailed_commands\", []))\n",
    "    print(\"Detailed Scan Outputs:\", result.get(\"detailed_outputs\", []))\n",
    "    print(\"Errors:\", result.get(\"error_message\"))"
   ]
  }
 ],
 "metadata": {
  "language_info": {
   "name": "python"
  }
 },
 "nbformat": 4,
 "nbformat_minor": 5
}
